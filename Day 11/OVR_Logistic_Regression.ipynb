{
  "nbformat": 4,
  "nbformat_minor": 0,
  "metadata": {
    "colab": {
      "name": "OVR_Logistic_Regression",
      "provenance": [],
      "collapsed_sections": []
    },
    "kernelspec": {
      "name": "python3",
      "display_name": "Python 3"
    }
  },
  "cells": [
    {
      "cell_type": "markdown",
      "metadata": {
        "id": "_k6khe9IGbU5",
        "colab_type": "text"
      },
      "source": [
        "# One Vs. Rest Logistic Regression"
      ]
    },
    {
      "cell_type": "markdown",
      "metadata": {
        "id": "1KYhV3kzGhPx",
        "colab_type": "text"
      },
      "source": [
        "On their own, logistic regressions are only binary classifiers, meaning they cannot handle target vectors with more than two classes. However, there are clever extensions to logistic regression to do just that. In one-vs-rest logistic regression (OVR) a separate model is trained for each class predicted whether an observation is that class or not (thus making it a binary classification problem). It assumes that each classification problem (e.g. class 0 or not) is independent."
      ]
    },
    {
      "cell_type": "code",
      "metadata": {
        "id": "4-TXI8GoGVYc",
        "colab_type": "code",
        "colab": {}
      },
      "source": [
        "#load libraries.\n",
        "\n",
        "from sklearn.linear_model import LogisticRegression\n",
        "from sklearn import datasets\n",
        "from sklearn.preprocessing import StandardScaler"
      ],
      "execution_count": 0,
      "outputs": []
    },
    {
      "cell_type": "code",
      "metadata": {
        "id": "Vd-JbMGAG35k",
        "colab_type": "code",
        "colab": {}
      },
      "source": [
        "#load the data.\n",
        "iris = datasets.load_iris()\n",
        "X = iris.data\n",
        "y = iris.target"
      ],
      "execution_count": 0,
      "outputs": []
    },
    {
      "cell_type": "code",
      "metadata": {
        "id": "PhJNUZvlHGAi",
        "colab_type": "code",
        "colab": {}
      },
      "source": [
        "#scale the features.\n",
        "scaler = StandardScaler()\n",
        "X = scaler.fit_transform(X)"
      ],
      "execution_count": 0,
      "outputs": []
    },
    {
      "cell_type": "code",
      "metadata": {
        "id": "SHMxWbcvHOXr",
        "colab_type": "code",
        "colab": {}
      },
      "source": [
        "#create one vs rest logistic regression object\n",
        "\n",
        "clf = LogisticRegression(random_state = 0, multi_class = 'ovr')"
      ],
      "execution_count": 0,
      "outputs": []
    },
    {
      "cell_type": "code",
      "metadata": {
        "id": "4CuPeeDfHah_",
        "colab_type": "code",
        "colab": {}
      },
      "source": [
        "#train the model\n",
        "\n",
        "model = clf.fit(X, y)"
      ],
      "execution_count": 0,
      "outputs": []
    },
    {
      "cell_type": "code",
      "metadata": {
        "id": "9uGy_tBGHgQ4",
        "colab_type": "code",
        "colab": {}
      },
      "source": [
        "#create a new observation.\n",
        "\n",
        "new_observation = [[0.5, 0.5, 0.5, 0.5]]"
      ],
      "execution_count": 0,
      "outputs": []
    },
    {
      "cell_type": "code",
      "metadata": {
        "id": "fg2i7eHFHoZ6",
        "colab_type": "code",
        "colab": {
          "base_uri": "https://localhost:8080/",
          "height": 34
        },
        "outputId": "936b9b52-c43b-41ac-886f-c030ddef0196"
      },
      "source": [
        "#predict the class\n",
        "\n",
        "model.predict(new_observation)"
      ],
      "execution_count": 7,
      "outputs": [
        {
          "output_type": "execute_result",
          "data": {
            "text/plain": [
              "array([2])"
            ]
          },
          "metadata": {
            "tags": []
          },
          "execution_count": 7
        }
      ]
    },
    {
      "cell_type": "code",
      "metadata": {
        "id": "9ynGL7dLIGnO",
        "colab_type": "code",
        "colab": {
          "base_uri": "https://localhost:8080/",
          "height": 34
        },
        "outputId": "fab420a3-9f77-4f8e-f4c0-1936213024d5"
      },
      "source": [
        "#predict the class probabilities\n",
        "\n",
        "model.predict_proba(new_observation)"
      ],
      "execution_count": 16,
      "outputs": [
        {
          "output_type": "execute_result",
          "data": {
            "text/plain": [
              "array([[0.0387617 , 0.40669108, 0.55454723]])"
            ]
          },
          "metadata": {
            "tags": []
          },
          "execution_count": 16
        }
      ]
    },
    {
      "cell_type": "code",
      "metadata": {
        "id": "meFXa9mlIZj_",
        "colab_type": "code",
        "colab": {}
      },
      "source": [
        ""
      ],
      "execution_count": 0,
      "outputs": []
    }
  ]
}